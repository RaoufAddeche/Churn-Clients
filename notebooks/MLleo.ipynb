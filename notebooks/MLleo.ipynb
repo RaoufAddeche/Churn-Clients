{
 "cells": [
  {
   "cell_type": "code",
   "execution_count": 87,
   "id": "35fbeb08",
   "metadata": {},
   "outputs": [],
   "source": [
    "import pandas as pd\n",
    "import numpy as np\n",
    "import matplotlib.pyplot as plt\n",
    "import seaborn as sns\n",
    "from sklearn.model_selection import train_test_split\n",
    "from sklearn.preprocessing import StandardScaler\n",
    "from sklearn.metrics import classification_report, confusion_matrix, roc_auc_score, roc_curve\n",
    "import tensorflow as tf\n",
    "from tensorflow.keras.models import Sequential\n",
    "from tensorflow.keras.layers import Dense, Dropout\n",
    "from tensorflow.keras.callbacks import EarlyStopping, ModelCheckpoint, TensorBoard\n",
    "import os\n",
    "import torch\n",
    "import torch.nn as nn\n",
    "import torch.optim as optim\n",
    "from torch.utils.data import Dataset, DataLoader\n",
    "from datetime import datetime"
   ]
  },
  {
   "cell_type": "markdown",
   "id": "8eb3a704",
   "metadata": {},
   "source": [
    "## Configuration du device"
   ]
  },
  {
   "cell_type": "code",
   "execution_count": 88,
   "id": "18676681",
   "metadata": {},
   "outputs": [
    {
     "name": "stdout",
     "output_type": "stream",
     "text": [
      "Utilisation de: cpu\n",
      "Version de PyTorch: 2.7.0+cu126\n"
     ]
    }
   ],
   "source": [
    "device = torch.device('cuda' if torch.cuda.is_available() else 'cpu')\n",
    "print(f\"Utilisation de: {device}\")\n",
    "\n",
    "# Version de PyTorch\n",
    "print(f\"Version de PyTorch: {torch.__version__}\")\n",
    "\n",
    "# Vérification de la disponibilité du GPU et ses caractéristiques si disponible\n",
    "if torch.cuda.is_available():\n",
    "    print(f\"Nom du GPU: {torch.cuda.get_device_name(0)}\")\n",
    "    print(f\"Mémoire GPU disponible: {torch.cuda.get_device_properties(0).total_memory / 1e9:.2f} GB\")"
   ]
  },
  {
   "cell_type": "markdown",
   "id": "e338e20c",
   "metadata": {},
   "source": [
    "### Check up"
   ]
  },
  {
   "cell_type": "code",
   "execution_count": 89,
   "id": "c6e2afde",
   "metadata": {},
   "outputs": [],
   "source": [
    "df = pd.read_csv('../data/CustomersFinal.csv')"
   ]
  },
  {
   "cell_type": "code",
   "execution_count": 90,
   "id": "912dfa43",
   "metadata": {},
   "outputs": [
    {
     "name": "stdout",
     "output_type": "stream",
     "text": [
      "customerID                                object\n",
      "Partner                                    int64\n",
      "Dependents                                 int64\n",
      "tenure                                     int64\n",
      "PaperlessBilling                           int64\n",
      "MonthlyCharges                           float64\n",
      "Churn                                      int64\n",
      "SeniorCitizen_Yes                          int64\n",
      "InternetService_Fiber optic                int64\n",
      "InternetService_No                         int64\n",
      "OnlineSecurity_No internet service         int64\n",
      "OnlineSecurity_Yes                         int64\n",
      "TechSupport_Yes                            int64\n",
      "Contract_One year                          int64\n",
      "Contract_Two year                          int64\n",
      "PaymentMethod_Credit card (automatic)      int64\n",
      "PaymentMethod_Electronic check             int64\n",
      "dtype: object\n"
     ]
    }
   ],
   "source": [
    "print(df.dtypes)"
   ]
  },
  {
   "cell_type": "code",
   "execution_count": 91,
   "id": "b08a55e8",
   "metadata": {},
   "outputs": [
    {
     "name": "stdout",
     "output_type": "stream",
     "text": [
      "customerID                               0\n",
      "Partner                                  0\n",
      "Dependents                               0\n",
      "tenure                                   0\n",
      "PaperlessBilling                         0\n",
      "MonthlyCharges                           0\n",
      "Churn                                    0\n",
      "SeniorCitizen_Yes                        0\n",
      "InternetService_Fiber optic              0\n",
      "InternetService_No                       0\n",
      "OnlineSecurity_No internet service       0\n",
      "OnlineSecurity_Yes                       0\n",
      "TechSupport_Yes                          0\n",
      "Contract_One year                        0\n",
      "Contract_Two year                        0\n",
      "PaymentMethod_Credit card (automatic)    0\n",
      "PaymentMethod_Electronic check           0\n",
      "dtype: int64\n"
     ]
    }
   ],
   "source": [
    "print(df.isnull().sum())"
   ]
  },
  {
   "cell_type": "code",
   "execution_count": 92,
   "id": "b0301f09",
   "metadata": {},
   "outputs": [],
   "source": [
    "X = df.drop(['customerID', 'Churn'], axis=1)\n",
    "y = df['Churn']"
   ]
  },
  {
   "cell_type": "code",
   "execution_count": 93,
   "id": "b944d947",
   "metadata": {},
   "outputs": [
    {
     "name": "stdout",
     "output_type": "stream",
     "text": [
      "X shape: (7043, 15), y shape: (7043,)\n"
     ]
    }
   ],
   "source": [
    "print(f\"X shape: {X.shape}, y shape: {y.shape}\")"
   ]
  },
  {
   "cell_type": "markdown",
   "id": "2aef28d8",
   "metadata": {},
   "source": [
    "### Split"
   ]
  },
  {
   "cell_type": "code",
   "execution_count": 94,
   "id": "a6791ee8",
   "metadata": {},
   "outputs": [],
   "source": [
    "X_train_val, X_test, y_train_val, y_test = train_test_split(\n",
    "    X, y, test_size=0.15, random_state=42, stratify=y\n",
    ")\n",
    "\n",
    "# ÉTAPE MANQUANTE: Deuxième division pour séparer train et validation\n",
    "X_train, X_val, y_train, y_val = train_test_split(\n",
    "    X_train_val, y_train_val, test_size=0.1765, random_state=42, stratify=y_train_val\n",
    "    # 0.1765 équivaut à 15% du dataset original (0.15 / 0.85)\n",
    ")\n"
   ]
  },
  {
   "cell_type": "code",
   "execution_count": 95,
   "id": "ebff49d7",
   "metadata": {},
   "outputs": [
    {
     "name": "stdout",
     "output_type": "stream",
     "text": [
      "Taille du jeu d'entraînement: 4929 exemples\n",
      "Taille du jeu de validation: 1057 exemples\n",
      "Taille du jeu de test: 1057 exemples\n",
      "\n",
      "Distribution de Churn dans l'ensemble complet: 0.2654\n",
      "Distribution de Churn dans l'ensemble d'entraînement: 0.2654\n",
      "Distribution de Churn dans l'ensemble de validation: 0.2658\n",
      "Distribution de Churn dans l'ensemble de test: 0.2649\n"
     ]
    }
   ],
   "source": [
    "print(f\"Taille du jeu d'entraînement: {X_train.shape[0]} exemples\")\n",
    "print(f\"Taille du jeu de validation: {X_val.shape[0]} exemples\")\n",
    "print(f\"Taille du jeu de test: {X_test.shape[0]} exemples\")\n",
    "\n",
    "# Vérification que la stratification a bien fonctionné\n",
    "print(f\"\\nDistribution de Churn dans l'ensemble complet: {y.mean():.4f}\")\n",
    "print(f\"Distribution de Churn dans l'ensemble d'entraînement: {y_train.mean():.4f}\")\n",
    "print(f\"Distribution de Churn dans l'ensemble de validation: {y_val.mean():.4f}\")\n",
    "print(f\"Distribution de Churn dans l'ensemble de test: {y_test.mean():.4f}\")"
   ]
  },
  {
   "cell_type": "markdown",
   "id": "17c1e4d4",
   "metadata": {},
   "source": [
    "### Normalisation des features numériques (StandardScaler)\n",
    " "
   ]
  },
  {
   "cell_type": "code",
   "execution_count": 96,
   "id": "cacab0d8",
   "metadata": {},
   "outputs": [
    {
     "name": "stdout",
     "output_type": "stream",
     "text": [
      "Colonnes numériques à normaliser: ['tenure', 'MonthlyCharges']\n",
      "\n",
      "Aperçu des données après normalisation:\n",
      "             tenure  MonthlyCharges\n",
      "count  4.929000e+03    4.929000e+03\n",
      "mean  -7.928556e-18   -2.027188e-16\n",
      "std    1.000101e+00    1.000101e+00\n",
      "min   -1.313275e+00   -1.530791e+00\n",
      "25%   -9.490814e-01   -9.822720e-01\n",
      "50%   -1.397630e-01    1.874613e-01\n",
      "75%    9.528168e-01    8.367624e-01\n",
      "max    1.600271e+00    1.785106e+00\n",
      "\n",
      "Scaler sauvegardé pour utilisation future.\n"
     ]
    }
   ],
   "source": [
    "numeric_cols = ['tenure', 'MonthlyCharges']\n",
    "if 'TotalCharges' in X.columns:\n",
    "    numeric_cols.append('TotalCharges')\n",
    "\n",
    "# Vérification des colonnes numériques\n",
    "print(f\"Colonnes numériques à normaliser: {numeric_cols}\")\n",
    "\n",
    "# Création et application du StandardScaler\n",
    "scaler = StandardScaler()\n",
    "X_train[numeric_cols] = scaler.fit_transform(X_train[numeric_cols])\n",
    "X_val[numeric_cols] = scaler.transform(X_val[numeric_cols])\n",
    "X_test[numeric_cols] = scaler.transform(X_test[numeric_cols])\n",
    "\n",
    "# Aperçu des données après normalisation\n",
    "print(\"\\nAperçu des données après normalisation:\")\n",
    "print(X_train[numeric_cols].describe())\n",
    "\n",
    "# Sauvegarde du scaler pour une utilisation future\n",
    "import pickle\n",
    "os.makedirs('model', exist_ok=True)\n",
    "with open('model/scaler.pkl', 'wb') as f:\n",
    "    pickle.dump(scaler, f)\n",
    "print(\"\\nScaler sauvegardé pour utilisation future.\")"
   ]
  },
  {
   "cell_type": "code",
   "execution_count": null,
   "id": "dc593bff",
   "metadata": {},
   "outputs": [],
   "source": []
  },
  {
   "cell_type": "markdown",
   "id": "0e35f1a8",
   "metadata": {},
   "source": [
    "### Création du dataset Pytorch"
   ]
  },
  {
   "cell_type": "code",
   "execution_count": 97,
   "id": "a9e10e6a",
   "metadata": {},
   "outputs": [
    {
     "name": "stdout",
     "output_type": "stream",
     "text": [
      "Dimensions du dataset d'entraînement: torch.Size([4929, 15])\n",
      "Dimensions du dataset de validation: torch.Size([1057, 15])\n",
      "Dimensions du dataset de test: torch.Size([1057, 15])\n"
     ]
    }
   ],
   "source": [
    "class ChurnDataset(Dataset):\n",
    "    def __init__(self, features, targets):\n",
    "        self.features = torch.tensor(features.values, dtype=torch.float32)\n",
    "        self.targets = torch.tensor(targets.values, dtype=torch.float32).reshape(-1, 1)\n",
    "        \n",
    "    def __len__(self):\n",
    "        return len(self.features)\n",
    "    \n",
    "    def __getitem__(self, idx):\n",
    "        return self.features[idx], self.targets[idx]\n",
    "\n",
    "# Création des datasets\n",
    "train_dataset = ChurnDataset(X_train, y_train)\n",
    "val_dataset = ChurnDataset(X_val, y_val)\n",
    "test_dataset = ChurnDataset(X_test, y_test)\n",
    "\n",
    "# Vérification des dimensions\n",
    "print(f\"Dimensions du dataset d'entraînement: {train_dataset.features.shape}\")\n",
    "print(f\"Dimensions du dataset de validation: {val_dataset.features.shape}\")\n",
    "print(f\"Dimensions du dataset de test: {test_dataset.features.shape}\")\n"
   ]
  },
  {
   "cell_type": "markdown",
   "id": "27e3dce0",
   "metadata": {},
   "source": [
    "### Création de lots d'entraînement "
   ]
  },
  {
   "cell_type": "code",
   "execution_count": 98,
   "id": "de5b9d3a",
   "metadata": {},
   "outputs": [
    {
     "name": "stdout",
     "output_type": "stream",
     "text": [
      "Nombre de batches dans le train_loader: 155\n",
      "Nombre de batches dans le val_loader: 34\n",
      "Nombre de batches dans le test_loader: 34\n",
      "\n",
      "Dimensions d'un batch de features: torch.Size([32, 15])\n",
      "Dimensions d'un batch de targets: torch.Size([32, 1])\n"
     ]
    }
   ],
   "source": [
    "batch_size = 32\n",
    "\n",
    "# Création des DataLoaders\n",
    "train_loader = DataLoader(train_dataset, batch_size=batch_size, shuffle=True)\n",
    "val_loader = DataLoader(val_dataset, batch_size=batch_size)\n",
    "test_loader = DataLoader(test_dataset, batch_size=batch_size)\n",
    "\n",
    "# Vérification des DataLoaders\n",
    "print(f\"Nombre de batches dans le train_loader: {len(train_loader)}\")\n",
    "print(f\"Nombre de batches dans le val_loader: {len(val_loader)}\")\n",
    "print(f\"Nombre de batches dans le test_loader: {len(test_loader)}\")\n",
    "\n",
    "# Visualisation d'un batch\n",
    "for batch_features, batch_targets in train_loader:\n",
    "    print(f\"\\nDimensions d'un batch de features: {batch_features.shape}\")\n",
    "    print(f\"Dimensions d'un batch de targets: {batch_targets.shape}\")\n",
    "    break "
   ]
  },
  {
   "cell_type": "markdown",
   "id": "3246a6a9",
   "metadata": {},
   "source": [
    "### Définition du modèle"
   ]
  },
  {
   "cell_type": "code",
   "execution_count": 99,
   "id": "3c8098d2",
   "metadata": {},
   "outputs": [
    {
     "name": "stdout",
     "output_type": "stream",
     "text": [
      "ChurnMLP(\n",
      "  (fc1): Linear(in_features=15, out_features=32, bias=True)\n",
      "  (relu1): ReLU()\n",
      "  (dropout1): Dropout(p=0.2, inplace=False)\n",
      "  (fc2): Linear(in_features=32, out_features=16, bias=True)\n",
      "  (relu2): ReLU()\n",
      "  (dropout2): Dropout(p=0.2, inplace=False)\n",
      "  (fc3): Linear(in_features=16, out_features=8, bias=True)\n",
      "  (relu3): ReLU()\n",
      "  (fc4): Linear(in_features=8, out_features=1, bias=True)\n",
      "  (sigmoid): Sigmoid()\n",
      ")\n",
      "\n",
      "Nombre de paramètres: 1185\n"
     ]
    }
   ],
   "source": [
    "\n",
    "class ChurnMLP(nn.Module):\n",
    "    def __init__(self, input_size):\n",
    "        super(ChurnMLP, self).__init__()\n",
    "        \n",
    "        # Architecture avec trois couches cachées\n",
    "        self.fc1 = nn.Linear(input_size, 32)\n",
    "        self.relu1 = nn.ReLU()\n",
    "        self.dropout1 = nn.Dropout(0.2)\n",
    "        \n",
    "        self.fc2 = nn.Linear(32, 16)\n",
    "        self.relu2 = nn.ReLU()\n",
    "        self.dropout2 = nn.Dropout(0.2)\n",
    "        \n",
    "        self.fc3 = nn.Linear(16, 8)\n",
    "        self.relu3 = nn.ReLU()\n",
    "        \n",
    "        # Couche de sortie (1 neurone avec activation sigmoid pour classification binaire)\n",
    "        self.fc4 = nn.Linear(8, 1)\n",
    "        self.sigmoid = nn.Sigmoid()\n",
    "        \n",
    "    def forward(self, x):\n",
    "        x = self.dropout1(self.relu1(self.fc1(x)))\n",
    "        x = self.dropout2(self.relu2(self.fc2(x)))\n",
    "        x = self.relu3(self.fc3(x))\n",
    "        x = self.sigmoid(self.fc4(x))\n",
    "        return x\n",
    "\n",
    "# Création du modèle\n",
    "input_size = X_train.shape[1]\n",
    "model = ChurnMLP(input_size).to(device)\n",
    "\n",
    "# Affichage du résumé du modèle\n",
    "print(model)\n",
    "print(f\"\\nNombre de paramètres: {sum(p.numel() for p in model.parameters())}\")"
   ]
  },
  {
   "cell_type": "markdown",
   "id": "5239b338",
   "metadata": {},
   "source": [
    "### Configuration de l'entrainement"
   ]
  },
  {
   "cell_type": "code",
   "execution_count": 100,
   "id": "78b0e911",
   "metadata": {},
   "outputs": [
    {
     "name": "stdout",
     "output_type": "stream",
     "text": [
      "Poids positif pour la classe minoritaire (Churn=1): 2.7683\n"
     ]
    }
   ],
   "source": [
    "# Calcul des poids pour gérer le déséquilibre des classes\n",
    "pos_weight = torch.tensor([(y_train == 0).sum() / (y_train == 1).sum()]).to(device)\n",
    "print(f\"Poids positif pour la classe minoritaire (Churn=1): {pos_weight.item():.4f}\")\n",
    "\n",
    "# Fonction de perte avec pondération des classes\n",
    "criterion = nn.BCEWithLogitsLoss(pos_weight=pos_weight)\n",
    "\n",
    "# Optimiseur Adam avec un learning rate de 0.001\n",
    "learning_rate = 0.001\n",
    "optimizer = optim.Adam(model.parameters(), lr=learning_rate)\n",
    "\n",
    "# Scheduler pour réduire le learning rate si la performance stagne\n",
    "scheduler = optim.lr_scheduler.ReduceLROnPlateau(\n",
    "    optimizer, mode='min', factor=0.5, patience=5\n",
    ")\n",
    "\n",
    "# Nombres d'époques\n",
    "num_epochs = 50\n"
   ]
  },
  {
   "cell_type": "markdown",
   "id": "95eb7725",
   "metadata": {},
   "source": [
    "### Fonctions des métriques d'évaluation du modèle"
   ]
  },
  {
   "cell_type": "code",
   "execution_count": 101,
   "id": "1e606c46",
   "metadata": {},
   "outputs": [],
   "source": [
    "def calculate_accuracy(y_pred, y_true):\n",
    "    \"\"\"Calcule l'exactitude des prédictions\"\"\"\n",
    "    predicted = y_pred.ge(.5).view(-1)\n",
    "    return (predicted == y_true).sum().float() / len(y_true)\n",
    "\n",
    "def calculate_metrics(y_pred, y_true):\n",
    "    \"\"\"Calcule plusieurs métriques pour l'évaluation du modèle\"\"\"\n",
    "    y_pred_tag = y_pred.ge(.5).view(-1).cpu().numpy()\n",
    "    y_true = y_true.cpu().numpy()\n",
    "    \n",
    "    # Matrice de confusion pour calculer les métriques\n",
    "    tn, fp, fn, tp = confusion_matrix(y_true, y_pred_tag, labels=[0, 1]).ravel()\n",
    "    \n",
    "    # Calcul des métriques\n",
    "    accuracy = (tp + tn) / (tp + tn + fp + fn)\n",
    "    precision = tp / (tp + fp) if (tp + fp) > 0 else 0\n",
    "    recall = tp / (tp + fn) if (tp + fn) > 0 else 0\n",
    "    f1 = 2 * precision * recall / (precision + recall) if (precision + recall) > 0 else 0\n",
    "    \n",
    "    return {\n",
    "        'accuracy': accuracy,\n",
    "        'precision': precision, \n",
    "        'recall': recall,\n",
    "        'f1': f1\n",
    "    }\n",
    "\n",
    "# Permet d'entrainer le modèle pendant une époque\n",
    "def train_epoch(model, data_loader, criterion, optimizer, device):\n",
    "    \"\"\"Entraîne le modèle pendant une époque\"\"\"\n",
    "    model.train()\n",
    "    running_loss = 0.0\n",
    "    correct = 0\n",
    "    total = 0\n",
    "    \n",
    "    for inputs, targets in data_loader:\n",
    "        inputs, targets = inputs.to(device), targets.to(device)\n",
    "        \n",
    "        # Forward pass\n",
    "        outputs = model(inputs)\n",
    "        loss = criterion(outputs, targets)\n",
    "        \n",
    "        # Backward pass et optimisation\n",
    "        optimizer.zero_grad()\n",
    "        loss.backward()\n",
    "        optimizer.step()\n",
    "        \n",
    "        # Suivi des statistiques\n",
    "        running_loss += loss.item() * inputs.size(0)\n",
    "        pred = outputs.ge(.5).view(-1)\n",
    "        correct += (pred == targets.view(-1)).sum().item()\n",
    "        total += targets.size(0)\n",
    "    \n",
    "    epoch_loss = running_loss / total\n",
    "    epoch_acc = correct / total\n",
    "    return epoch_loss, epoch_acc\n",
    "\n",
    "# Permet d'évaluer le modèle suur l'ensemble de validation\n",
    "def validate_epoch(model, data_loader, criterion, device):\n",
    "    \"\"\"Valide le modèle sur l'ensemble de validation\"\"\"\n",
    "    model.eval()\n",
    "    running_loss = 0.0\n",
    "    correct = 0\n",
    "    total = 0\n",
    "    all_preds = []\n",
    "    all_targets = []\n",
    "    \n",
    "    with torch.no_grad():\n",
    "        for inputs, targets in data_loader:\n",
    "            inputs, targets = inputs.to(device), targets.to(device)\n",
    "            \n",
    "            # Forward pass\n",
    "            outputs = model(inputs)\n",
    "            loss = criterion(outputs, targets)\n",
    "            \n",
    "            # Suivi des statistiques\n",
    "            running_loss += loss.item() * inputs.size(0)\n",
    "            pred = outputs.ge(.5).view(-1)\n",
    "            correct += (pred == targets.view(-1)).sum().item()\n",
    "            total += targets.size(0)\n",
    "            \n",
    "            # Stockage pour calcul de métriques détaillées\n",
    "            all_preds.append(outputs.cpu())\n",
    "            all_targets.append(targets.view(-1).cpu())\n",
    "    \n",
    "    # Concaténation des prédictions et cibles\n",
    "    all_preds = torch.cat(all_preds)\n",
    "    all_targets = torch.cat(all_targets)\n",
    "    \n",
    "    # Calcul des métriques\n",
    "    metrics = calculate_metrics(all_preds, all_targets)\n",
    "    \n",
    "    epoch_loss = running_loss / total\n",
    "    epoch_acc = correct / total\n",
    "    return epoch_loss, epoch_acc, metrics"
   ]
  },
  {
   "cell_type": "markdown",
   "id": "2f0403da",
   "metadata": {},
   "source": [
    "### Entraînement et sauvegarde du meilleur modèle"
   ]
  },
  {
   "cell_type": "code",
   "execution_count": 102,
   "id": "3fd3b984",
   "metadata": {},
   "outputs": [
    {
     "name": "stdout",
     "output_type": "stream",
     "text": [
      "Début de l'entraînement...\n"
     ]
    },
    {
     "name": "stdout",
     "output_type": "stream",
     "text": [
      "Époque 1/50 - Train Loss: 1.0194, Train Acc: 0.6521, Val Loss: 0.9569, Val Acc: 0.7843, Val F1: 0.5065, Val Recall: 0.4164\n",
      "Meilleur modèle sauvegardé à l'époque 1\n",
      "Époque 2/50 - Train Loss: 0.9450, Train Acc: 0.7949, Val Loss: 0.9463, Val Acc: 0.7739, Val F1: 0.6023, Val Recall: 0.6441\n",
      "Meilleur modèle sauvegardé à l'époque 2\n",
      "Époque 3/50 - Train Loss: 0.9398, Train Acc: 0.7896, Val Loss: 0.9421, Val Acc: 0.7862, Val F1: 0.6007, Val Recall: 0.6050\n",
      "Meilleur modèle sauvegardé à l'époque 3\n",
      "Époque 4/50 - Train Loss: 0.9356, Train Acc: 0.7906, Val Loss: 0.9385, Val Acc: 0.7881, Val F1: 0.6098, Val Recall: 0.6228\n",
      "Meilleur modèle sauvegardé à l'époque 4\n",
      "Époque 5/50 - Train Loss: 0.9219, Train Acc: 0.7884, Val Loss: 0.9167, Val Acc: 0.7777, Val F1: 0.6216, Val Recall: 0.6868\n",
      "Meilleur modèle sauvegardé à l'époque 5\n",
      "Époque 6/50 - Train Loss: 0.9067, Train Acc: 0.7864, Val Loss: 0.9132, Val Acc: 0.7862, Val F1: 0.6130, Val Recall: 0.6370\n",
      "Meilleur modèle sauvegardé à l'époque 6\n",
      "Époque 7/50 - Train Loss: 0.9068, Train Acc: 0.7876, Val Loss: 0.9122, Val Acc: 0.7862, Val F1: 0.6117, Val Recall: 0.6335\n",
      "Meilleur modèle sauvegardé à l'époque 7\n",
      "Époque 8/50 - Train Loss: 0.9062, Train Acc: 0.7837, Val Loss: 0.9121, Val Acc: 0.7824, Val F1: 0.6154, Val Recall: 0.6548\n",
      "Meilleur modèle sauvegardé à l'époque 8\n",
      "Époque 9/50 - Train Loss: 0.9063, Train Acc: 0.7874, Val Loss: 0.9118, Val Acc: 0.7843, Val F1: 0.6162, Val Recall: 0.6512\n",
      "Meilleur modèle sauvegardé à l'époque 9\n",
      "Époque 10/50 - Train Loss: 0.9050, Train Acc: 0.7920, Val Loss: 0.9111, Val Acc: 0.7843, Val F1: 0.6213, Val Recall: 0.6655\n",
      "Meilleur modèle sauvegardé à l'époque 10\n",
      "Époque 11/50 - Train Loss: 0.9051, Train Acc: 0.7866, Val Loss: 0.9112, Val Acc: 0.7833, Val F1: 0.6151, Val Recall: 0.6512\n",
      "Époque 12/50 - Train Loss: 0.9052, Train Acc: 0.7884, Val Loss: 0.9120, Val Acc: 0.7786, Val F1: 0.6226, Val Recall: 0.6868\n",
      "Époque 13/50 - Train Loss: 0.9069, Train Acc: 0.7858, Val Loss: 0.9113, Val Acc: 0.7824, Val F1: 0.6217, Val Recall: 0.6726\n",
      "Époque 14/50 - Train Loss: 0.9036, Train Acc: 0.7902, Val Loss: 0.9119, Val Acc: 0.7815, Val F1: 0.6065, Val Recall: 0.6335\n",
      "Époque 15/50 - Train Loss: 0.9052, Train Acc: 0.7884, Val Loss: 0.9119, Val Acc: 0.7824, Val F1: 0.6254, Val Recall: 0.6833\n",
      "Époque 16/50 - Train Loss: 0.9044, Train Acc: 0.7912, Val Loss: 0.9113, Val Acc: 0.7815, Val F1: 0.6232, Val Recall: 0.6797\n",
      "Époque 17/50 - Train Loss: 0.9031, Train Acc: 0.7910, Val Loss: 0.9109, Val Acc: 0.7824, Val F1: 0.6179, Val Recall: 0.6619\n",
      "Meilleur modèle sauvegardé à l'époque 17\n",
      "Époque 18/50 - Train Loss: 0.9036, Train Acc: 0.7896, Val Loss: 0.9109, Val Acc: 0.7796, Val F1: 0.6199, Val Recall: 0.6762\n",
      "Époque 19/50 - Train Loss: 0.9035, Train Acc: 0.7878, Val Loss: 0.9108, Val Acc: 0.7796, Val F1: 0.6199, Val Recall: 0.6762\n",
      "Meilleur modèle sauvegardé à l'époque 19\n",
      "Époque 20/50 - Train Loss: 0.9007, Train Acc: 0.7937, Val Loss: 0.9103, Val Acc: 0.7843, Val F1: 0.6174, Val Recall: 0.6548\n",
      "Meilleur modèle sauvegardé à l'époque 20\n",
      "Époque 21/50 - Train Loss: 0.9036, Train Acc: 0.7892, Val Loss: 0.9105, Val Acc: 0.7833, Val F1: 0.6227, Val Recall: 0.6726\n",
      "Époque 22/50 - Train Loss: 0.9037, Train Acc: 0.7892, Val Loss: 0.9105, Val Acc: 0.7805, Val F1: 0.6197, Val Recall: 0.6726\n",
      "Époque 23/50 - Train Loss: 0.9031, Train Acc: 0.7870, Val Loss: 0.9108, Val Acc: 0.7805, Val F1: 0.6234, Val Recall: 0.6833\n",
      "Époque 24/50 - Train Loss: 0.9028, Train Acc: 0.7914, Val Loss: 0.9109, Val Acc: 0.7805, Val F1: 0.6234, Val Recall: 0.6833\n",
      "Époque 25/50 - Train Loss: 0.9037, Train Acc: 0.7894, Val Loss: 0.9117, Val Acc: 0.7824, Val F1: 0.6141, Val Recall: 0.6512\n",
      "Époque 26/50 - Train Loss: 0.9025, Train Acc: 0.7914, Val Loss: 0.9113, Val Acc: 0.7824, Val F1: 0.6154, Val Recall: 0.6548\n",
      "Époque 27/50 - Train Loss: 0.9033, Train Acc: 0.7914, Val Loss: 0.9113, Val Acc: 0.7815, Val F1: 0.6144, Val Recall: 0.6548\n",
      "Époque 28/50 - Train Loss: 0.9042, Train Acc: 0.7904, Val Loss: 0.9112, Val Acc: 0.7824, Val F1: 0.6141, Val Recall: 0.6512\n",
      "Époque 29/50 - Train Loss: 0.9026, Train Acc: 0.7916, Val Loss: 0.9112, Val Acc: 0.7805, Val F1: 0.6094, Val Recall: 0.6441\n",
      "Époque 30/50 - Train Loss: 0.9019, Train Acc: 0.7931, Val Loss: 0.9111, Val Acc: 0.7824, Val F1: 0.6128, Val Recall: 0.6477\n",
      "Early stopping déclenché après 30 époques\n",
      "Entraînement terminé! Meilleur modèle à l'époque 20\n"
     ]
    }
   ],
   "source": [
    "# Early stopping pour éviter le surapprentissage\n",
    "early_stopping_patience = 10\n",
    "best_val_loss = float('inf')\n",
    "early_stopping_counter = 0\n",
    "best_epoch = 0\n",
    "\n",
    "# Pour suivre les métriques pendant l'entraînement\n",
    "history = {\n",
    "    'train_loss': [],\n",
    "    'train_acc': [],\n",
    "    'val_loss': [],\n",
    "    'val_acc': [],\n",
    "    'val_f1': [],\n",
    "    'val_recall': []\n",
    "}\n",
    "\n",
    "print(\"Début de l'entraînement...\")\n",
    "for epoch in range(num_epochs):\n",
    "    # Entraînement pour une époque\n",
    "    train_loss, train_acc = train_epoch(model, train_loader, criterion, optimizer, device)\n",
    "    \n",
    "    # Validation\n",
    "    val_loss, val_acc, val_metrics = validate_epoch(model, val_loader, criterion, device)\n",
    "    \n",
    "    # Mise à jour du scheduler\n",
    "    scheduler.step(val_loss)\n",
    "    \n",
    "    # Enregistrement des métriques\n",
    "    history['train_loss'].append(train_loss)\n",
    "    history['train_acc'].append(train_acc)\n",
    "    history['val_loss'].append(val_loss)\n",
    "    history['val_acc'].append(val_acc)\n",
    "    history['val_f1'].append(val_metrics['f1'])\n",
    "    history['val_recall'].append(val_metrics['recall'])\n",
    "    \n",
    "    # Affichage des métriques\n",
    "    print(f\"Époque {epoch+1}/{num_epochs} - \"\n",
    "          f\"Train Loss: {train_loss:.4f}, Train Acc: {train_acc:.4f}, \"\n",
    "          f\"Val Loss: {val_loss:.4f}, Val Acc: {val_acc:.4f}, \"\n",
    "          f\"Val F1: {val_metrics['f1']:.4f}, Val Recall: {val_metrics['recall']:.4f}\")\n",
    "    \n",
    "    # Sauvegarde du meilleur modèle\n",
    "    if val_loss < best_val_loss:\n",
    "        best_val_loss = val_loss\n",
    "        best_epoch = epoch\n",
    "        early_stopping_counter = 0\n",
    "        \n",
    "        # Sauvegarde du modèle\n",
    "        torch.save(model.state_dict(), '../checkpoints/best_model.pth')\n",
    "        print(f\"Meilleur modèle sauvegardé à l'époque {epoch+1}\")\n",
    "    else:\n",
    "        early_stopping_counter += 1\n",
    "    \n",
    "    # Early stopping\n",
    "    if early_stopping_counter >= early_stopping_patience:\n",
    "        print(f\"Early stopping déclenché après {epoch+1} époques\")\n",
    "        break\n",
    "\n",
    "print(f\"Entraînement terminé! Meilleur modèle à l'époque {best_epoch+1}\")"
   ]
  },
  {
   "cell_type": "markdown",
   "id": "f2856856",
   "metadata": {},
   "source": [
    "### Chargement du meilleur modèle et évaluation finale"
   ]
  },
  {
   "cell_type": "code",
   "execution_count": 103,
   "id": "ed3b27dd",
   "metadata": {},
   "outputs": [
    {
     "name": "stdout",
     "output_type": "stream",
     "text": [
      "Résultats sur l'ensemble de test:\n",
      "Accuracy: 0.7767\n",
      "Precision: 0.5647\n",
      "Recall: 0.6857\n",
      "F1-score: 0.6194\n",
      "AUC-ROC: 0.8366\n"
     ]
    }
   ],
   "source": [
    "# Chargement du meilleur modèle\n",
    "best_model = ChurnMLP(input_size).to(device)\n",
    "best_model.load_state_dict(torch.load('../checkpoints/best_model.pth'))\n",
    "best_model.eval()\n",
    "\n",
    "# Évaluation sur l'ensemble de test\n",
    "test_loss, test_acc, test_metrics = validate_epoch(best_model, test_loader, criterion, device)\n",
    "\n",
    "print(f\"Résultats sur l'ensemble de test:\")\n",
    "print(f\"Accuracy: {test_acc:.4f}\")\n",
    "print(f\"Precision: {test_metrics['precision']:.4f}\")\n",
    "print(f\"Recall: {test_metrics['recall']:.4f}\")\n",
    "print(f\"F1-score: {test_metrics['f1']:.4f}\")\n",
    "\n",
    "# Prédictions détaillées pour la courbe ROC et d'autres analyses\n",
    "all_preds = []\n",
    "all_targets = []\n",
    "\n",
    "with torch.no_grad():\n",
    "    for inputs, targets in test_loader:\n",
    "        inputs, targets = inputs.to(device), targets.to(device)\n",
    "        outputs = best_model(inputs)\n",
    "        \n",
    "        all_preds.append(outputs.cpu().numpy())\n",
    "        all_targets.append(targets.cpu().numpy())\n",
    "\n",
    "# Concaténation des résultats\n",
    "all_preds = np.concatenate(all_preds)\n",
    "all_targets = np.concatenate(all_targets)\n",
    "\n",
    "# Calcul de l'AUC-ROC\n",
    "auc_roc = roc_auc_score(all_targets, all_preds)\n",
    "print(f\"AUC-ROC: {auc_roc:.4f}\")"
   ]
  },
  {
   "cell_type": "markdown",
   "id": "1ec73cd1",
   "metadata": {},
   "source": [
    "Résultats sur l'ensemble de test:\n",
    "Accuracy: 0.7758\n",
    "Precision: 0.5620\n",
    "Recall: 0.6964\n",
    "F1-score: 0.6220\n",
    "AUC-ROC: 0.8382"
   ]
  },
  {
   "cell_type": "markdown",
   "id": "bd5248a1",
   "metadata": {},
   "source": [
    "### Visualisation de la matrice de confusion et courbe ROC"
   ]
  },
  {
   "cell_type": "code",
   "execution_count": 104,
   "id": "0c5a7975",
   "metadata": {},
   "outputs": [
    {
     "data": {
      "image/png": "[encoded data removed]",
      "text/plain": [
       "<Figure size 1000x800 with 1 Axes>"
      ]
     },
     "metadata": {},
     "output_type": "display_data"
    },
    {
     "data": {
      "image/png": "[encoded data removed]",
      "text/plain": [
       "<Figure size 1000x800 with 1 Axes>"
      ]
     },
     "metadata": {},
     "output_type": "display_data"
    }
   ],
   "source": [
    "# Calcul de la matrice de confusion\n",
    "y_pred = (all_preds >= 0.5).astype(int)\n",
    "cm = confusion_matrix(all_targets, y_pred)\n",
    "\n",
    "# Affichage de la matrice de confusion\n",
    "plt.figure(figsize=(10, 8))\n",
    "sns.heatmap(cm, annot=True, fmt='d', cmap='Blues', cbar=False)\n",
    "plt.title('Matrice de confusion')\n",
    "plt.ylabel('Vrai label')\n",
    "plt.xlabel('Prédiction')\n",
    "plt.xticks([0.5, 1.5], ['Non churn (0)', 'Churn (1)'])\n",
    "plt.yticks([0.5, 1.5], ['Non churn (0)', 'Churn (1)'])\n",
    "plt.show()\n",
    "\n",
    "# Calcul et affichage de la courbe ROC\n",
    "fpr, tpr, _ = roc_curve(all_targets, all_preds)\n",
    "\n",
    "plt.figure(figsize=(10, 8))\n",
    "plt.plot(fpr, tpr, color='darkorange', lw=2, label=f'AUC = {auc_roc:.3f}')\n",
    "plt.plot([0, 1], [0, 1], color='navy', lw=2, linestyle='--')\n",
    "plt.xlim([0.0, 1.0])\n",
    "plt.ylim([0.0, 1.05])\n",
    "plt.xlabel('Taux de faux positifs')\n",
    "plt.ylabel('Taux de vrais positifs')\n",
    "plt.title('Courbe ROC')\n",
    "plt.legend(loc=\"lower right\")\n",
    "plt.show()"
   ]
  },
  {
   "cell_type": "markdown",
   "id": "a34d8f3b",
   "metadata": {},
   "source": [
    "### Features importance"
   ]
  },
  {
   "cell_type": "code",
   "execution_count": 105,
   "id": "b792f18f",
   "metadata": {},
   "outputs": [
    {
     "name": "stdout",
     "output_type": "stream",
     "text": [
      "Calcul de l'importance des features (cela peut prendre un moment)...\n",
      "\n",
      "Importance des features (par permutation):\n",
      "tenure: 0.046925\n",
      "TechSupport_Yes: 0.002649\n",
      "OnlineSecurity_Yes: 0.002649\n",
      "SeniorCitizen_Yes: 0.002081\n",
      "Contract_One year: 0.000946\n",
      "Partner: 0.000568\n",
      "Dependents: 0.000568\n",
      "InternetService_Fiber optic: 0.000568\n",
      "MonthlyCharges: 0.000000\n",
      "PaymentMethod_Credit card (automatic): -0.001892\n",
      "InternetService_No: -0.003595\n",
      "PaperlessBilling: -0.004163\n",
      "Contract_Two year: -0.006055\n",
      "PaymentMethod_Electronic check: -0.006055\n",
      "OnlineSecurity_No internet service: -0.006623\n"
     ]
    },
    {
     "data": {
      "image/png": "[encoded data removed]",
      "text/plain": [
       "<Figure size 1200x800 with 1 Axes>"
      ]
     },
     "metadata": {},
     "output_type": "display_data"
    }
   ],
   "source": [
    "# Cellule 16: Analyse de l'importance des features\n",
    "# ---------------------------------------------\n",
    "# Estimation de l'importance des features par permutation\n",
    "\n",
    "def feature_importance_permutation(model, X_data, y_data, device, n_repeats=10):\n",
    "    \"\"\"\n",
    "    Calcule l'importance des features par permutation.\n",
    "    L'idée est de permuter aléatoirement une colonne et de mesurer la baisse de performance.\n",
    "    Plus la baisse est importante, plus la feature est importante.\n",
    "    \"\"\"\n",
    "    # Conversion en tenseurs et déplacement vers le device approprié\n",
    "    X_tensor = torch.tensor(X_data.values, dtype=torch.float32).to(device)\n",
    "    y_tensor = torch.tensor(y_data.values, dtype=torch.float32).reshape(-1, 1).to(device)\n",
    "    \n",
    "    # Calcul de la performance de base\n",
    "    model.eval()\n",
    "    with torch.no_grad():\n",
    "        base_preds = model(X_tensor)\n",
    "        base_score = calculate_accuracy(base_preds, y_tensor.view(-1))\n",
    "    \n",
    "    # Calcul de l'importance pour chaque feature\n",
    "    importances = []\n",
    "    for col_idx, column in enumerate(X_data.columns):\n",
    "        # Répéter plusieurs fois pour réduire la variance\n",
    "        col_importance = []\n",
    "        for _ in range(n_repeats):\n",
    "            # Copie du tenseur original\n",
    "            X_permuted = X_tensor.clone()\n",
    "            \n",
    "            # Permutation aléatoire de la colonne\n",
    "            perm_idx = torch.randperm(len(X_permuted))\n",
    "            X_permuted[:, col_idx] = X_permuted[perm_idx, col_idx]\n",
    "            \n",
    "            # Prédiction et calcul du score\n",
    "            with torch.no_grad():\n",
    "                perm_preds = model(X_permuted)\n",
    "                perm_score = calculate_accuracy(perm_preds, y_tensor.view(-1))\n",
    "            \n",
    "            # L'importance est la baisse de performance\n",
    "            importance = base_score - perm_score\n",
    "            col_importance.append(importance.item())\n",
    "        \n",
    "        # Moyenne des répétitions\n",
    "        mean_importance = sum(col_importance) / n_repeats\n",
    "        importances.append((column, mean_importance))\n",
    "    \n",
    "    # Tri par importance décroissante\n",
    "    importances.sort(key=lambda x: x[1], reverse=True)\n",
    "    return importances\n",
    "\n",
    "# Calcul de l'importance des features\n",
    "print(\"Calcul de l'importance des features (cela peut prendre un moment)...\")\n",
    "feature_importances = feature_importance_permutation(best_model, X_test, y_test, device, n_repeats=5)\n",
    "\n",
    "# Affichage des résultats\n",
    "print(\"\\nImportance des features (par permutation):\")\n",
    "for feature, importance in feature_importances:\n",
    "    print(f\"{feature}: {importance:.6f}\")\n",
    "\n",
    "# Visualisation de l'importance des features\n",
    "features = [x[0] for x in feature_importances]\n",
    "importance_values = [x[1] for x in feature_importances]\n",
    "\n",
    "plt.figure(figsize=(12, 8))\n",
    "bars = plt.barh(range(len(features)), importance_values, align='center')\n",
    "plt.yticks(range(len(features)), features)\n",
    "plt.xlabel('Baisse de performance après permutation')\n",
    "plt.title('Importance des features pour la prédiction de churn')\n",
    "\n",
    "# Coloration des barres selon l'importance\n",
    "for i, bar in enumerate(bars):\n",
    "    if importance_values[i] > 0.01:  # Seuil arbitraire pour les features très importantes\n",
    "        bar.set_color('darkred')\n",
    "    elif importance_values[i] > 0.005:  # Features moyennement importantes\n",
    "        bar.set_color('orangered')\n",
    "    else:  # Features moins importantes\n",
    "        bar.set_color('coral')\n",
    "\n",
    "plt.tight_layout()\n",
    "plt.show()"
   ]
  },
  {
   "cell_type": "code",
   "execution_count": 106,
   "id": "f60737ed",
   "metadata": {},
   "outputs": [
    {
     "name": "stdout",
     "output_type": "stream",
     "text": [
      "Modèle complet sauvegardé dans 'model_final/churn_model_complete.pkl'\n"
     ]
    }
   ],
   "source": [
    "# Création d'un dossier pour le modèle final (juste au cas où)\n",
    "os.makedirs('model_final', exist_ok=True)\n",
    "\n",
    "# Préparation d'un dictionnaire contenant tous les éléments nécessaires\n",
    "model_package = {\n",
    "    # Modèle\n",
    "    'model_state_dict': best_model.state_dict(),\n",
    "    'input_size': input_size,\n",
    "    'best_epoch': best_epoch,\n",
    "    \n",
    "    # Prétraitement\n",
    "    'scaler': scaler,\n",
    "    'numeric_cols': numeric_cols,\n",
    "    \n",
    "    # Métadonnées et performances\n",
    "    'creation_date': datetime.now().strftime('%Y-%m-%d %H:%M:%S'),\n",
    "    'performance': {\n",
    "        'accuracy': test_acc,\n",
    "        'precision': test_metrics['precision'],\n",
    "        'recall': test_metrics['recall'],\n",
    "        'f1_score': test_metrics['f1'],\n",
    "        'auc_roc': auc_roc\n",
    "    },\n",
    "    \n",
    "    # Top features importantes\n",
    "    'top_features': feature_importances[:5]\n",
    "}\n",
    "\n",
    "# Sauvegarde de tout dans un seul fichier pickle\n",
    "with open('model_final/churn_model_complete.pkl', 'wb') as f:\n",
    "    pickle.dump(model_package, f)\n",
    "\n",
    "print(\"Modèle complet sauvegardé dans 'model_final/churn_model_complete.pkl'\")"
   ]
  }
 ],
 "metadata": {
  "language_info": {
   "name": "python"
  }
 },
 "nbformat": 4,
 "nbformat_minor": 5
}
