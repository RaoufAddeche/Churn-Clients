{
 "cells": [
  {
   "cell_type": "code",
   "execution_count": 93,
   "metadata": {},
   "outputs": [],
   "source": [
    "# 1. Imports & Configuration Initiale\n",
    "import pandas as pd\n",
    "import numpy as np\n",
    "import matplotlib.pyplot as plt\n",
    "import seaborn as sns\n",
    "from sklearn.model_selection import train_test_split\n",
    "from sklearn.preprocessing import OneHotEncoder, StandardScaler\n",
    "from sklearn.compose import ColumnTransformer\n",
    "from sklearn.metrics import roc_auc_score, roc_curve, confusion_matrix, classification_report, f1_score\n",
    "import tensorflow as tf\n",
    "from tensorflow import keras\n",
    "from tensorflow.keras import layers, callbacks\n",
    "import os\n",
    "import random\n",
    "from itertools import combinations\n",
    "from datetime import datetime\n",
    "\n",
    "# Pour la reproductibilité (fixer les seeds)\n",
    "SEED = 42\n",
    "np.random.seed(SEED)\n",
    "random.seed(SEED)\n",
    "tf.random.set_seed(SEED)"
   ]
  },
  {
   "cell_type": "code",
   "execution_count": 94,
   "metadata": {},
   "outputs": [],
   "source": [
    "# Charger les données prétraitées\n",
    "df = pd.read_csv(\"../data/Customers_cleaned.csv\")"
   ]
  },
  {
   "cell_type": "code",
   "execution_count": 95,
   "metadata": {},
   "outputs": [],
   "source": [
    "%load_ext tensorboard"
   ]
  },
  {
   "cell_type": "code",
   "execution_count": 96,
   "metadata": {},
   "outputs": [],
   "source": [
    "# Suppression de la colonne 'customerID' \n",
    "df = df.drop(columns=['customerID'])\n",
    "\n",
    "# Encodage de la variable cible 'Churn' (transformation en 0 et 1)\n",
    "df['Churn'] = (df['Churn'].str.lower().str.strip() == 'yes').astype(int)\n",
    "\n",
    "# Features candidates à supprimer (celles que je veux tester)\n",
    "features_candidates = [\n",
    "    'gender', 'PhoneService', 'StreamingMovies', 'StreamingTV',\n",
    "    'DeviceProtection', 'OnlineBackup', 'MultipleLines'\n",
    "]\n",
    "\n",
    "# Liste des caractéristiques à toujours supprimer (ici, seulement la cible après encodage)\n",
    "always_drop = ['Churn']"
   ]
  },
  {
   "cell_type": "code",
   "execution_count": 97,
   "metadata": {},
   "outputs": [],
   "source": [
    "# 4. Division des données en ensembles d'entraînement, de validation et de test\n",
    "# Split initial en train+validation et test\n",
    "X, X_test, y, y_test = train_test_split(\n",
    "    df.drop(columns=['Churn']), df['Churn'], test_size=0.2, random_state=SEED, stratify=df['Churn']\n",
    ")\n",
    "\n",
    "# Split de l'ensemble train+validation en train et validation\n",
    "X_train, X_val, y_train, y_val = train_test_split(\n",
    "    X, y, test_size=0.25, random_state=SEED, stratify=y  # 0.25 * 0.8 = 0.2 (20% pour validation)\n",
    ")"
   ]
  },
  {
   "cell_type": "code",
   "execution_count": 98,
   "metadata": {},
   "outputs": [],
   "source": [
    "# Initialisation d'une liste pour stocker les résultats de chaque combinaison de features\n",
    "results = []\n",
    "\n",
    "# 5. Boucle principale : Test de toutes les combinaisons de suppressions de features\n",
    "for r in range(len(features_candidates) + 1): # Boucle sur le nombre de features à supprimer (0 à len(features_candidates))\n",
    "    for combo in combinations(features_candidates, r): # Génère toutes les combinaisons possibles de features à supprimer\n",
    "        additional_features_to_drop = list(combo) # Convertit la combinaison en liste\n",
    "        features_to_drop = always_drop + additional_features_to_drop # Liste complète des features à supprimer pour cette itération\n",
    "\n",
    "        # Création d'une copie des DataFrames pour éviter de modifier l'original\n",
    "        X_train_copy = X_train.copy()\n",
    "        X_val_copy = X_val.copy()\n",
    "\n",
    "        # Suppression des features\n",
    "        X_train_subset = X_train_copy.drop(columns=additional_features_to_drop, errors='ignore')\n",
    "        X_val_subset = X_val_copy.drop(columns=additional_features_to_drop, errors='ignore')\n",
    "\n",
    "        # Identification des colonnes numériques et catégorielles\n",
    "        numeric_features = X_train_subset.select_dtypes(include=[np.number]).columns.tolist()\n",
    "        categorical_features = X_train_subset.select_dtypes(include=['object']).columns.tolist()\n",
    "\n",
    "        # Définition du pipeline de pré-traitement des données\n",
    "        preprocessor = ColumnTransformer(\n",
    "            transformers=[\n",
    "                ('num', StandardScaler(), numeric_features), # Standardisation des variables numériques\n",
    "                ('cat', OneHotEncoder(drop='first', handle_unknown='ignore', sparse_output=False), categorical_features) # Encodage One-Hot des variables catégorielles\n",
    "            ],\n",
    "            remainder='passthrough'  # Gérer les colonnes non spécifiées\n",
    "        )\n",
    "\n",
    "        # Application du pré-traitement : fit et transform sur l'ensemble d'entraînement, transform seulement sur l'ensemble de validation\n",
    "        X_train_prep = preprocessor.fit_transform(X_train_subset)\n",
    "        X_val_prep = preprocessor.transform(X_val_subset)\n",
    "\n",
    "        # ----------------------------------------------------------------------\n",
    "        # 6. Construction du MLP (Multi-Layer Perceptron) avec Keras\n",
    "        input_dim = X_train_prep.shape[1] # Détermination de la dimension de l'entrée du modèle\n",
    "        lr = 0.001 # Taux d'apprentissage\n",
    "        dropout = 0.3 # Taux de dropout\n",
    "\n",
    "        # Définition de l'architecture du modèle\n",
    "        model = keras.Sequential([\n",
    "            layers.Input(shape=(input_dim,), name='tabular_input'), # Couche d'entrée\n",
    "            layers.Dense(128, activation='relu'), # Couche Dense (entièrement connectée) avec activation ReLU\n",
    "            layers.Dropout(dropout), # Couche de Dropout pour réduire le surapprentissage\n",
    "            layers.Dense(64, activation='relu'), # Couche Dense avec activation ReLU\n",
    "            layers.Dropout(dropout), # Couche de Dropout\n",
    "            layers.Dense(1, activation='sigmoid') # Couche de sortie avec activation Sigmoid (pour la classification binaire)\n",
    "        ], name='telco_mlp')\n",
    "\n",
    "        # Compilation du modèle\n",
    "        model.compile(\n",
    "            optimizer=keras.optimizers.Adam(learning_rate=lr), # Optimiseur Adam\n",
    "            loss='binary_crossentropy', # Fonction de perte (Binary Cross-Entropy pour la classification binaire)\n",
    "            metrics=[\n",
    "                keras.metrics.AUC(name='auc'), # Métrique : Aire sous la courbe ROC\n",
    "                keras.metrics.Recall(name='recall'), # Métrique : Recall (Sensibilité)\n",
    "                keras.metrics.Precision(name='precision') # Métrique : Précision\n",
    "            ]\n",
    "        )\n",
    "\n",
    "        # 7. Callbacks & gestion du déséquilibre de classes\n",
    "        run_id = f\"drop_{'_'.join(additional_features_to_drop) if additional_features_to_drop else 'aucune'}_{datetime.now().strftime('%Y%m%d_%H%M%S')}\" # Création d'un identifiant unique pour cette exécution\n",
    "        checkpoints_dir = os.path.join(\"checkpoints\", run_id) # Définition du répertoire pour sauvegarder les checkpoints du modèle\n",
    "        tensorboard_dir = os.path.join(\"tensorboard_logs\", run_id) # Définition du répertoire pour les logs TensorBoard\n",
    "        os.makedirs(checkpoints_dir, exist_ok=True) # Création du répertoire (si inexistant)\n",
    "        os.makedirs(tensorboard_dir, exist_ok=True) # Création du répertoire (si inexistant)\n",
    "\n",
    "        # Définition des callbacks\n",
    "        cb_early_stopping = callbacks.EarlyStopping(\n",
    "            monitor='val_auc', # Surveille l'AUC sur l'ensemble de validation\n",
    "            patience=10, # Nombre d'époques sans amélioration avant d'arrêter l'entraînement\n",
    "            restore_best_weights=True, # Restaure les poids du modèle à la meilleure époque\n",
    "            mode='max' # Recherche la valeur maximale de la métrique\n",
    "        )\n",
    "        cb_checkpoint = callbacks.ModelCheckpoint(\n",
    "            filepath=os.path.join(checkpoints_dir, 'best_model.keras'), # Chemin du fichier pour sauvegarder le meilleur modèle\n",
    "            monitor=\"val_auc\", # Surveille l'AUC sur l'ensemble de validation\n",
    "            save_best_only=True, # Sauvegarde seulement le meilleur modèle\n",
    "            mode='max' # Recherche la valeur maximale de la métrique\n",
    "        )\n",
    "        cb_tensorboard = callbacks.TensorBoard(\n",
    "            log_dir=tensorboard_dir, # Répertoire pour les logs TensorBoard\n",
    "            histogram_freq=1 # Enregistre les histogrammes des poids et des activations à chaque époque\n",
    "        )\n",
    "\n",
    "        # Calcul des poids des classes pour gérer le déséquilibre\n",
    "        neg, pos = np.bincount(y_train) # Comptage des exemples négatifs et positifs dans l'ensemble d'entraînement\n",
    "        class_weight = {0: 1.0, 1: neg / pos} # Définition des poids : la classe majoritaire a un poids de 1, la classe minoritaire a un poids inversement proportionnel à sa fréquence\n",
    "\n",
    "        # 8. Entraînement du modèle\n",
    "        history = model.fit(\n",
    "            X_train_prep, y_train, # Données d'entraînement\n",
    "            validation_data=(X_val_prep, y_val), # Données de validation\n",
    "            epochs=10, # Nombre d'époques\n",
    "            batch_size=128, # Taille des batchs\n",
    "            callbacks=[cb_early_stopping, cb_checkpoint, cb_tensorboard], # Callbacks\n",
    "            class_weight=class_weight, # Poids des classes\n",
    "            verbose=0 # Désactivation de l'affichage pendant l'entraînement\n",
    "        )\n",
    "\n",
    "        # 9. Évaluation sur l'ensemble de validation\n",
    "        y_val_pred_proba = model.predict(X_val_prep, verbose=0).ravel() # Prédictions (probabilités) sur l'ensemble de validation\n",
    "        y_val_pred = (y_val_pred_proba > 0.5).astype(int) # Conversion des probabilités en classes prédites\n",
    "\n",
    "        val_auc = roc_auc_score(y_val, y_val_pred_proba) # Calcul de l'AUC\n",
    "        val_f1 = f1_score(y_val, y_val_pred) # Calcul du F1-score\n",
    "\n",
    "        # Stockage des résultats dans la liste\n",
    "        results.append({\n",
    "            'features_dropped': ', '.join(additional_features_to_drop) if additional_features_to_drop else 'Aucune', # Liste des features supprimées\n",
    "            'features_kept': ', '.join([col for col in df.columns if col not in features_to_drop]), # Liste des features conservées\n",
    "            'num_dropped': len(additional_features_to_drop), # Nombre de features supprimées\n",
    "            'ROC_AUC_MLP': val_auc, # AUC du MLP\n",
    "            'F1_MLP': val_f1, # F1-score du MLP\n",
    "            'model': model, # Stocker le modèle entraîné\n",
    "            'preprocessor': preprocessor, # Stocker le preprocessor\n",
    "            'features_to_drop': features_to_drop # Stocker la liste des features à supprimer\n",
    "        })\n"
   ]
  },
  {
   "cell_type": "code",
   "execution_count": 99,
   "metadata": {},
   "outputs": [],
   "source": [
    "# 10. Identification du meilleur résultat\n",
    "results_df = pd.DataFrame(results) # Conversion de la liste de résultats en DataFrame Pandas\n",
    "best_result = results_df.sort_values(by='ROC_AUC_MLP', ascending=False).iloc[0] # Sélection de la ligne avec le meilleur AUC"
   ]
  },
  {
   "cell_type": "code",
   "execution_count": 100,
   "metadata": {},
   "outputs": [],
   "source": [
    "# Récupérer le meilleur modèle, le preprocessor et la liste des features à supprimer\n",
    "best_model = best_result['model']\n",
    "best_preprocessor = best_result['preprocessor']\n",
    "features_to_drop = best_result['features_to_drop']"
   ]
  },
  {
   "cell_type": "code",
   "execution_count": 101,
   "metadata": {},
   "outputs": [],
   "source": [
    "# 11. Préparation des données pour l'entraînement final\n",
    "# Combiner les ensembles d'entraînement et de validation\n",
    "X_train_final = pd.concat([X_train, X_val], axis=0)\n",
    "y_train_final = pd.concat([y_train, y_val], axis=0)"
   ]
  },
  {
   "cell_type": "code",
   "execution_count": 102,
   "metadata": {},
   "outputs": [],
   "source": [
    "# Supprimer les features de l'ensemble d'entraînement final et de l'ensemble de test\n",
    "X_train_final = X_train_final.drop(columns=features_to_drop, errors='ignore')\n",
    "X_test_final = X_test.drop(columns=features_to_drop, errors='ignore')"
   ]
  },
  {
   "cell_type": "code",
   "execution_count": 103,
   "metadata": {},
   "outputs": [],
   "source": [
    "# Application du pré-traitement : fit et transform sur l'ensemble d'entraînement final, transform seulement sur l'ensemble de test\n",
    "X_train_prep_final = best_preprocessor.fit_transform(X_train_final)\n",
    "X_test_prep_final = best_preprocessor.transform(X_test_final)"
   ]
  },
  {
   "cell_type": "code",
   "execution_count": 104,
   "metadata": {},
   "outputs": [],
   "source": [
    "# 12. Entraînement final sur l'ensemble combiné (train + validation)\n",
    "input_dim = X_train_prep_final.shape[1]\n",
    "lr = 0.001\n",
    "dropout = 0.3"
   ]
  },
  {
   "cell_type": "code",
   "execution_count": 105,
   "metadata": {},
   "outputs": [],
   "source": [
    "# Redéfinir le modèle (pour éviter de réutiliser un modèle déjà entraîné)\n",
    "final_model = keras.Sequential([\n",
    "    layers.Input(shape=(input_dim,), name='tabular_input'),\n",
    "    layers.Dense(128, activation='relu'),\n",
    "    layers.Dropout(dropout),\n",
    "    layers.Dense(64, activation='relu'),\n",
    "    layers.Dropout(dropout),\n",
    "    layers.Dense(1, activation='sigmoid')\n",
    "], name='telco_mlp_final')\n",
    "\n",
    "final_model.compile(\n",
    "    optimizer=keras.optimizers.Adam(learning_rate=lr),\n",
    "    loss='binary_crossentropy',\n",
    "    metrics=[\n",
    "        keras.metrics.AUC(name='auc'),\n",
    "        keras.metrics.Recall(name='recall'),\n",
    "        keras.metrics.Precision(name='precision')\n",
    "    ]\n",
    ")"
   ]
  },
  {
   "cell_type": "code",
   "execution_count": 106,
   "metadata": {},
   "outputs": [],
   "source": [
    "# Calcul des poids des classes pour gérer le déséquilibre\n",
    "neg, pos = np.bincount(y_train_final)\n",
    "class_weight = {0: 1.0, 1: neg / pos}"
   ]
  },
  {
   "cell_type": "code",
   "execution_count": 107,
   "metadata": {},
   "outputs": [
    {
     "data": {
      "text/plain": [
       "<keras.src.callbacks.history.History at 0x76da9a12c260>"
      ]
     },
     "execution_count": 107,
     "metadata": {},
     "output_type": "execute_result"
    }
   ],
   "source": [
    "# Entraînement du modèle final\n",
    "final_model.fit(\n",
    "    X_train_prep_final, y_train_final,\n",
    "    epochs=10,\n",
    "    batch_size=128,\n",
    "    class_weight=class_weight,\n",
    "    verbose=0\n",
    ")"
   ]
  },
  {
   "cell_type": "code",
   "execution_count": 108,
   "metadata": {},
   "outputs": [],
   "source": [
    "# 13. Évaluation finale sur l'ensemble de test\n",
    "y_test_pred_proba = final_model.predict(X_test_prep_final, verbose=0).ravel()\n",
    "y_test_pred = (y_test_pred_proba > 0.5).astype(int)"
   ]
  },
  {
   "cell_type": "code",
   "execution_count": 109,
   "metadata": {},
   "outputs": [
    {
     "name": "stdout",
     "output_type": "stream",
     "text": [
      "Rapport de classification sur l'ensemble de test (modèle final) :\n",
      "              precision    recall  f1-score   support\n",
      "\n",
      "           0       0.90      0.74      0.81      1035\n",
      "           1       0.52      0.77      0.62       374\n",
      "\n",
      "    accuracy                           0.75      1409\n",
      "   macro avg       0.71      0.76      0.72      1409\n",
      "weighted avg       0.80      0.75      0.76      1409\n",
      "\n"
     ]
    }
   ],
   "source": [
    "# Afficher le rapport de classification\n",
    "print(\"Rapport de classification sur l'ensemble de test (modèle final) :\")\n",
    "print(classification_report(y_test, y_test_pred))"
   ]
  },
  {
   "cell_type": "code",
   "execution_count": 119,
   "metadata": {},
   "outputs": [
    {
     "data": {
      "text/plain": [
       "Reusing TensorBoard on port 6006 (pid 404296), started 0:05:06 ago. (Use '!kill 404296' to kill it.)"
      ]
     },
     "metadata": {},
     "output_type": "display_data"
    },
    {
     "data": {
      "text/html": [
       "\n",
       "      <iframe id=\"tensorboard-frame-54c63cd889456f27\" width=\"100%\" height=\"800\" frameborder=\"0\">\n",
       "      </iframe>\n",
       "      <script>\n",
       "        (function() {\n",
       "          const frame = document.getElementById(\"tensorboard-frame-54c63cd889456f27\");\n",
       "          const url = new URL(\"http://localhost\");\n",
       "          const port = 6006;\n",
       "          if (port) {\n",
       "            url.port = port;\n",
       "          }\n",
       "          frame.src = url;\n",
       "        })();\n",
       "      </script>\n",
       "    "
      ],
      "text/plain": [
       "<IPython.core.display.HTML object>"
      ]
     },
     "metadata": {},
     "output_type": "display_data"
    }
   ],
   "source": [
    "%tensorboard --logdir logs/fit"
   ]
  },
  {
   "cell_type": "code",
   "execution_count": 110,
   "metadata": {},
   "outputs": [
    {
     "name": "stdout",
     "output_type": "stream",
     "text": [
      "\n",
      "Matrice de confusion sur l'ensemble de test (modèle final) :\n"
     ]
    },
    {
     "data": {
      "image/png": "[encoded data removed]",
      "text/plain": [
       "<Figure size 640x480 with 2 Axes>"
      ]
     },
     "metadata": {},
     "output_type": "display_data"
    }
   ],
   "source": [
    "# Afficher la matrice de confusion\n",
    "print(\"\\nMatrice de confusion sur l'ensemble de test (modèle final) :\")\n",
    "cm = confusion_matrix(y_test, y_test_pred)\n",
    "sns.heatmap(cm, annot=True, fmt='d', cmap='Blues')\n",
    "plt.xlabel('Prédit')\n",
    "plt.ylabel('Réel')\n",
    "plt.title('Matrice de confusion (test - modèle final)')\n",
    "plt.show()"
   ]
  },
  {
   "cell_type": "code",
   "execution_count": 111,
   "metadata": {},
   "outputs": [
    {
     "data": {
      "image/png": "[encoded data removed]",
      "text/plain": [
       "<Figure size 640x480 with 1 Axes>"
      ]
     },
     "metadata": {},
     "output_type": "display_data"
    }
   ],
   "source": [
    "# Afficher la courbe ROC\n",
    "fpr, tpr, thresholds = roc_curve(y_test, y_test_pred_proba)\n",
    "plt.plot(fpr, tpr, label=f\"AUC = {roc_auc_score(y_test, y_test_pred_proba):.2f}\")\n",
    "plt.plot([0, 1], [0, 1], linestyle='--')\n",
    "plt.xlabel('False Positive Rate')\n",
    "plt.ylabel('True Positive Rate')\n",
    "plt.title('Courbe ROC (test - modèle final)')\n",
    "plt.legend()\n",
    "plt.show()"
   ]
  },
  {
   "cell_type": "code",
   "execution_count": 112,
   "metadata": {},
   "outputs": [
    {
     "name": "stdout",
     "output_type": "stream",
     "text": [
      "\n",
      "Impossible d'afficher l'importance des features (modèle trop simple ou trop complexe).\n",
      "\n",
      "Meilleur résultat trouvé :\n",
      "  AUC: 0.8388\n",
      "  F1-score: 0.6166\n",
      "  Features supprimées: StreamingMovies, StreamingTV, DeviceProtection, OnlineBackup\n",
      "  Features conservées: gender, SeniorCitizen, Partner, Dependents, tenure, PhoneService, MultipleLines, InternetService, OnlineSecurity, TechSupport, Contract, PaperlessBilling, PaymentMethod, MonthlyCharges, TotalCharges\n"
     ]
    }
   ],
   "source": [
    "# Afficher les features importantes (approximation)\n",
    "# Note : Cette partie est une approximation car l'importance des features\n",
    "# est plus complexe à déterminer dans un réseau de neurones.\n",
    "# Ici, on regarde les poids de la première couche dense.\n",
    "try:\n",
    "    first_layer_weights = final_model.layers[1].get_weights()[0]\n",
    "    feature_names = best_preprocessor.get_feature_names_out()\n",
    "    feature_importance = pd.DataFrame({'Feature': feature_names, 'Importance': np.abs(first_layer_weights).sum(axis=1)})\n",
    "    feature_importance = feature_importance.sort_values('Importance', ascending=False)\n",
    "    print(\"\\nImportance des features (approximation basée sur la première couche - modèle final) :\")\n",
    "    print(feature_importance.head(10))  # Afficher les 10 features les plus importantes\n",
    "except:\n",
    "    print(\"\\nImpossible d'afficher l'importance des features (modèle trop simple ou trop complexe).\")\n",
    "\n",
    "# Affichage du meilleur résultat\n",
    "print(\"\\nMeilleur résultat trouvé :\")\n",
    "print(f\"  AUC: {best_result['ROC_AUC_MLP']:.4f}\")\n",
    "print(f\"  F1-score: {best_result['F1_MLP']:.4f}\")\n",
    "print(f\"  Features supprimées: {best_result['features_dropped']}\")\n",
    "print(f\"  Features conservées: {best_result['features_kept']}\")"
   ]
  }
 ],
 "metadata": {
  "kernelspec": {
   "display_name": ".venv",
   "language": "python",
   "name": "python3"
  },
  "language_info": {
   "codemirror_mode": {
    "name": "ipython",
    "version": 3
   },
   "file_extension": ".py",
   "mimetype": "text/x-python",
   "name": "python",
   "nbconvert_exporter": "python",
   "pygments_lexer": "ipython3",
   "version": "3.12.3"
  }
 },
 "nbformat": 4,
 "nbformat_minor": 2
}
